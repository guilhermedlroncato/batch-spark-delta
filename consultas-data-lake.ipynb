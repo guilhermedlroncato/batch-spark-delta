{
 "metadata": {
  "language_info": {
   "codemirror_mode": {
    "name": "ipython",
    "version": 3
   },
   "file_extension": ".py",
   "mimetype": "text/x-python",
   "name": "python",
   "nbconvert_exporter": "python",
   "pygments_lexer": "ipython3",
   "version": "3.8.5"
  },
  "orig_nbformat": 4,
  "kernelspec": {
   "name": "python3",
   "display_name": "Python 3.8.5 64-bit"
  },
  "interpreter": {
   "hash": "31f2aee4e71d21fbe5cf8b01ff0e069b9275f58929596ceb00d14d90e3e16cd6"
  }
 },
 "nbformat": 4,
 "nbformat_minor": 2,
 "cells": [
  {
   "cell_type": "code",
   "execution_count": 1,
   "metadata": {},
   "outputs": [],
   "source": [
    "import pyspark\n",
    "from pyspark.sql import SparkSession\n",
    "from pyspark import SparkConf\n",
    "from pyspark.sql.functions import to_date, to_timestamp\n",
    "from pyspark.sql.types import TimestampType\n",
    "import pyspark.sql.functions as F"
   ]
  },
  {
   "cell_type": "code",
   "execution_count": 2,
   "metadata": {},
   "outputs": [],
   "source": [
    "# inicio sessão spark\n",
    "spark = pyspark.sql.SparkSession.builder.appName(\"consultas\")\\\n",
    "    .config(\"spark.jars.packages\", \"io.delta:delta-core_2.12:0.8.0\")\\\n",
    "    .config(\"spark.sql.extensions\", \"io.delta.sql.DeltaSparkSessionExtension\")\\\n",
    "    .config(\"spark.sql.catalog.spark_catalog\", \"org.apache.spark.sql.delta.catalog.DeltaCatalog\")\\\n",
    "    .getOrCreate()"
   ]
  },
  {
   "cell_type": "code",
   "execution_count": 96,
   "metadata": {},
   "outputs": [
    {
     "output_type": "execute_result",
     "data": {
      "text/plain": [
       "310"
      ]
     },
     "metadata": {},
     "execution_count": 96
    }
   ],
   "source": [
    "# lendo dados dos usuarios na bronze em formato parquet\n",
    "df_bronze = spark.read.format(\"parquet\")\\\n",
    "            .option(\"inferSchema\", \"true\")\\\n",
    "            .option(\"header\", \"true\")\\\n",
    "            .option(\"versionAsOf\", \"0\")\\\n",
    "            .load(\"./data-lake/bronze/users/*.parquet\")\n",
    "\n",
    "df_bronze.count()"
   ]
  },
  {
   "cell_type": "code",
   "execution_count": 97,
   "metadata": {},
   "outputs": [
    {
     "output_type": "execute_result",
     "data": {
      "text/plain": [
       "310"
      ]
     },
     "metadata": {},
     "execution_count": 97
    }
   ],
   "source": [
    "# lendo dados dos usuarios na silver em formato delta\n",
    "df_silver = spark.read.format(\"delta\")\\\n",
    "            .load(\"./data-lake/silver/users\")\n",
    "\n",
    "df_silver.count()"
   ]
  },
  {
   "cell_type": "code",
   "execution_count": 98,
   "metadata": {},
   "outputs": [
    {
     "output_type": "stream",
     "name": "stdout",
     "text": [
      "+--------+----------------+\n|count(1)|sum(total_users)|\n+--------+----------------+\n|      16|             310|\n+--------+----------------+\n\n"
     ]
    }
   ],
   "source": [
    "# lendo dados dos usuarios na golda em formato delta\n",
    "df_gold = spark.read.format(\"delta\")\\\n",
    "            .load(\"./data-lake/gold/users\")\n",
    "\n",
    "df_gold.createOrReplaceTempView(\"users_gold\")\n",
    "\n",
    "df_result = spark.sql(\n",
    "        \"\"\"\n",
    "        SELECT COUNT(1)\n",
    "             , SUM(u.total_users)\n",
    "          FROM users_gold u      \n",
    "        \"\"\"\n",
    "    )\n",
    "df_result.show()"
   ]
  },
  {
   "cell_type": "code",
   "execution_count": 99,
   "metadata": {},
   "outputs": [],
   "source": [
    "# encerra sessao spark\n",
    "spark.stop()"
   ]
  }
 ]
}